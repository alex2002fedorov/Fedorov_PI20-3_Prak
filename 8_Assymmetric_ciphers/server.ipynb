{
 "cells": [
  {
   "cell_type": "code",
   "execution_count": 2,
   "id": "106a0d1e",
   "metadata": {},
   "outputs": [
    {
     "name": "stdout",
     "output_type": "stream",
     "text": [
      "ZXadcfsd\n",
      "zxcwevfv\n",
      "ergjryhfdgjdtuk\n",
      "tykrtukdhfm\n",
      "j,fukdthmuktyu7k\n",
      "tykyjchvmtyj\n"
     ]
    }
   ],
   "source": [
    "import socket\n",
    "import pickle\n",
    "from random import randint\n",
    "\n",
    "def crypt(a1, key):\n",
    "    a2 = [chr(ord(a1[i]) ^ key) for i in range(len(a1))]\n",
    "    return ''.join(a2)\n",
    "\n",
    "\n",
    "def send(conn, msg, K):\n",
    "    msg = crypt(msg, K)\n",
    "    conn.send(pickle.dumps(msg))\n",
    "\n",
    "\n",
    "def receive(conn, K):\n",
    "    msg = pickle.loads(conn.recv(1024))\n",
    "    msg = crypt(msg, K)\n",
    "    return msg\n",
    "\n",
    "\n",
    "HOST = '127.0.0.1'\n",
    "PORT = 8080\n",
    "sock = socket.socket()\n",
    "sock.bind((HOST, PORT))\n",
    "sock.listen(1)\n",
    "conn, addr = sock.accept()\n",
    "\n",
    "msg = conn.recv(1024)\n",
    "p, g, A = pickle.loads(msg)\n",
    "b = randint(10, 250)\n",
    "B = g ** b % p\n",
    "conn.send(pickle.dumps(B))\n",
    "K = A ** b % p\n",
    "\n",
    "\n",
    "while True:\n",
    "    try:\n",
    "        msg = receive(conn, K)\n",
    "        print(msg)\n",
    "        send(conn, msg, K)\n",
    "    except EOFError:\n",
    "        break\n",
    "conn.close() "
   ]
  },
  {
   "cell_type": "code",
   "execution_count": null,
   "id": "70b6aafc",
   "metadata": {},
   "outputs": [],
   "source": []
  }
 ],
 "metadata": {
  "kernelspec": {
   "display_name": "Python 3",
   "language": "python",
   "name": "python3"
  },
  "language_info": {
   "codemirror_mode": {
    "name": "ipython",
    "version": 3
   },
   "file_extension": ".py",
   "mimetype": "text/x-python",
   "name": "python",
   "nbconvert_exporter": "python",
   "pygments_lexer": "ipython3",
   "version": "3.8.8"
  }
 },
 "nbformat": 4,
 "nbformat_minor": 5
}
