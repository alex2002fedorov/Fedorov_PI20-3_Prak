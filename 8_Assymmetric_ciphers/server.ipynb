{
 "cells": [
  {
   "cell_type": "code",
   "execution_count": 2,
   "id": "106a0d1e",
   "metadata": {},
   "outputs": [
    {
     "name": "stdout",
     "output_type": "stream",
     "text": [
      "1257\n",
      "603\n",
      "925\n",
      "1497\n",
      "863\n",
      "485\n",
      "1813\n"
     ]
    }
   ],
   "source": [
    "import socket\n",
    "import pickle\n",
    "import random\n",
    "\n",
    "def cezar_encrypt(k, m):\n",
    "    out_str = ''\n",
    "    for i in m:\n",
    "        out_str += chr((ord(i) + k) % 65536)\n",
    "    return out_str\n",
    "\n",
    "def cezar_decrypt(k, m):\n",
    "    out_str = ''\n",
    "    for i in m:\n",
    "        out_str += chr((ord(i) - k) % 65536)\n",
    "    return out_str\n",
    "\n",
    "\n",
    "HOST = '127.0.0.1'\n",
    "PORT = 8080\n",
    "\n",
    "sock = socket.socket()\n",
    "sock.bind((HOST, PORT))\n",
    "sock.listen(1)\n",
    "conn, addr = sock.accept()\n",
    "\n",
    "\n",
    "b = random.randint(1399, 5000)\n",
    "msg = conn.recv(1024)\n",
    "(p, g, A) = pickle.loads(msg)\n",
    "\n",
    "while True:\n",
    "    msg = conn.recv(1024)\n",
    "    if not msg:\n",
    "        break\n",
    "    msg = pickle.loads(msg)\n",
    "    b = random.randint(1399, 5000)\n",
    "    B = g ** b % p\n",
    "    K = A ** b % p\n",
    "    print(K)\n",
    "    conn.send(pickle.dumps((B, cezar_encrypt(K, msg))))\n",
    "\n",
    "conn.close()"
   ]
  },
  {
   "cell_type": "code",
   "execution_count": null,
   "id": "70b6aafc",
   "metadata": {},
   "outputs": [],
   "source": []
  }
 ],
 "metadata": {
  "kernelspec": {
   "display_name": "Python 3",
   "language": "python",
   "name": "python3"
  },
  "language_info": {
   "codemirror_mode": {
    "name": "ipython",
    "version": 3
   },
   "file_extension": ".py",
   "mimetype": "text/x-python",
   "name": "python",
   "nbconvert_exporter": "python",
   "pygments_lexer": "ipython3",
   "version": "3.8.8"
  }
 },
 "nbformat": 4,
 "nbformat_minor": 5
}
