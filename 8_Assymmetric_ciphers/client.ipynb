{
 "cells": [
  {
   "cell_type": "code",
   "execution_count": 1,
   "id": "b500f050",
   "metadata": {},
   "outputs": [
    {
     "name": "stdout",
     "output_type": "stream",
     "text": [
      "Enter your message\n",
      "ZXadcfsd\n",
      "ZXadcfsd\n",
      "zxcwevfv\n",
      "zxcwevfv\n",
      "ergjryhfdgjdtuk\n",
      "ergjryhfdgjdtuk\n",
      "tykrtukdhfm\n",
      "tykrtukdhfm\n",
      "j,fukdthmuktyu7k\n",
      "j,fukdthmuktyu7k\n",
      "tykyjchvmtyj\n",
      "tykyjchvmtyj\n",
      "exit\n"
     ]
    }
   ],
   "source": [
    "import socket\n",
    "import pickle\n",
    "from random import randint\n",
    "\n",
    "\n",
    "def crypt(a1, key):\n",
    "    a2 = [chr(ord(a1[i]) ^ key) for i in range(len(a1))]\n",
    "    return ''.join(a2)\n",
    "\n",
    "def send(sock, msg, K):\n",
    "    msg = crypt(msg, K)\n",
    "    sock.send(pickle.dumps(msg))\n",
    "\n",
    "def receive(sock, K):\n",
    "    msg = pickle.loads(sock.recv(1024))\n",
    "    msg = crypt(msg,K)\n",
    "    return msg\n",
    "\n",
    "HOST = '127.0.0.1'\n",
    "PORT = 8080\n",
    "\n",
    "sock = socket.socket()\n",
    "sock.connect((HOST, PORT))\n",
    "\n",
    "p, g, a = [randint(0,250) for i in range(3)]\n",
    "A = g ** a % p\n",
    "sock.send(pickle.dumps((p, g, A)))\n",
    "B = pickle.loads(sock.recv(1024))\n",
    "K = B ** a % p\n",
    "print('Enter your message')\n",
    "msg = input()\n",
    "while msg != 'exit':\n",
    "    send(sock,msg, K)\n",
    "    print(receive(sock,K))\n",
    "    msg = input()\n",
    "sock.close()"
   ]
  },
  {
   "cell_type": "code",
   "execution_count": null,
   "id": "ba9c6586",
   "metadata": {},
   "outputs": [],
   "source": []
  }
 ],
 "metadata": {
  "kernelspec": {
   "display_name": "Python 3",
   "language": "python",
   "name": "python3"
  },
  "language_info": {
   "codemirror_mode": {
    "name": "ipython",
    "version": 3
   },
   "file_extension": ".py",
   "mimetype": "text/x-python",
   "name": "python",
   "nbconvert_exporter": "python",
   "pygments_lexer": "ipython3",
   "version": "3.8.8"
  }
 },
 "nbformat": 4,
 "nbformat_minor": 5
}
