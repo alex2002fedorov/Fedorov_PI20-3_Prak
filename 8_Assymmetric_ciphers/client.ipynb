{
 "cells": [
  {
   "cell_type": "code",
   "execution_count": 2,
   "id": "b500f050",
   "metadata": {},
   "outputs": [
    {
     "name": "stdout",
     "output_type": "stream",
     "text": [
      "сообщение: qwqwsdf\n",
      "՚ՠ՚ՠ՜ՍՏ\n",
      "qwqwsdf\n",
      "сообщение: asdwefetbqergwef\n",
      "ʼˎʿ˒ˀˁˀˏʽˌˀˍ˂˒ˀˁ\n",
      "asdwefetbqergwef\n",
      "сообщение: qwerty\n",
      "ЎДЂЏБЖ\n",
      "qwerty\n",
      "сообщение: qwertgyh\n",
      "يِؾًٍـْف\n",
      "qwertgyh\n",
      "сообщение: zxcvbnjhgfds\n",
      "ϙϗςϕρύωχφυσϒ\n",
      "zxcvbnjhgfds\n",
      "сообщение: werfgbcvx\n",
      "ɜɊɗɋɌɇɈɛɝ\n",
      "werfgbcvx\n",
      "сообщение: sfgghfgbvxcdfsg\n",
      "ވݻݼݼݽݻݼݷދލݸݹݻވݼ\n",
      "sfgghfgbvxcdfsg\n",
      "сообщение: \n"
     ]
    }
   ],
   "source": [
    "import socket\n",
    "import pickle\n",
    "import random\n",
    "\n",
    "def cezar_decrypt(k, m):\n",
    "    out_str = ''\n",
    "    for i in m:\n",
    "        out_str += chr((ord(i) - k) % 65536)\n",
    "    return out_str\n",
    "\n",
    "HOST = '127.0.0.1'\n",
    "PORT = 8080\n",
    "\n",
    "sock = socket.socket()\n",
    "sock.connect((HOST, PORT))\n",
    "\n",
    "p, g, a = random.randint(1399, 5000), random.randint(1399, 5000), random.randint(1399, 5000)\n",
    "A = g ** a % p\n",
    "sock.send(pickle.dumps((p, g, A)))\n",
    "\n",
    "while True:\n",
    "    new_msg = input('сообщение: ')\n",
    "    if new_msg == \"\":\n",
    "        break\n",
    "\n",
    "    sock.send(pickle.dumps(new_msg))\n",
    "    msg = sock.recv(1024)\n",
    "    B = pickle.loads(msg)[0]\n",
    "    message = pickle.loads(msg)[1]\n",
    "    print(message)\n",
    "    K = B ** a % p\n",
    "    print(cezar_decrypt(K, message))\n",
    "\n",
    "sock.close()"
   ]
  },
  {
   "cell_type": "code",
   "execution_count": null,
   "id": "ba9c6586",
   "metadata": {},
   "outputs": [],
   "source": []
  }
 ],
 "metadata": {
  "kernelspec": {
   "display_name": "Python 3",
   "language": "python",
   "name": "python3"
  },
  "language_info": {
   "codemirror_mode": {
    "name": "ipython",
    "version": 3
   },
   "file_extension": ".py",
   "mimetype": "text/x-python",
   "name": "python",
   "nbconvert_exporter": "python",
   "pygments_lexer": "ipython3",
   "version": "3.8.8"
  }
 },
 "nbformat": 4,
 "nbformat_minor": 5
}
